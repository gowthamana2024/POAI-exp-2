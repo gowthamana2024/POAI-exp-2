{
  "nbformat": 4,
  "nbformat_minor": 0,
  "metadata": {
    "colab": {
      "provenance": [],
      "authorship_tag": "ABX9TyMVSqNHGgH0HCFWPGVy93vd",
      "include_colab_link": true
    },
    "kernelspec": {
      "name": "python3",
      "display_name": "Python 3"
    },
    "language_info": {
      "name": "python"
    }
  },
  "cells": [
    {
      "cell_type": "markdown",
      "metadata": {
        "id": "view-in-github",
        "colab_type": "text"
      },
      "source": [
        "<a href=\"https://colab.research.google.com/github/gowthamana2024/POAI-exp-2/blob/main/poai%20exp%202.ipynb\" target=\"_parent\"><img src=\"https://colab.research.google.com/assets/colab-badge.svg\" alt=\"Open In Colab\"/></a>"
      ]
    },
    {
      "cell_type": "code",
      "execution_count": null,
      "metadata": {
        "id": "HglusR4LaKUG"
      },
      "outputs": [],
      "source": []
    },
    {
      "source": [
        "def dfs(graph, start_node, visited):\n",
        "    \"\"\"\n",
        "    Performs Depth First Search on a graph.\n",
        "\n",
        "    Args:\n",
        "        graph: A dictionary representing the graph, where keys are nodes\n",
        "               and values are lists of adjacent nodes.\n",
        "        start_node: The node to start the traversal from.\n",
        "        visited: A set to keep track of visited nodes.\n",
        "    \"\"\"\n",
        "    visited.add(start_node)\n",
        "    print(start_node) # Or perform any other action on the node\n",
        "\n",
        "    for neighbor in graph.get(start_node, []):\n",
        "        if neighbor not in visited:\n",
        "            dfs(graph, neighbor, visited)\n",
        "\n",
        "# Example Usage\n",
        "graph = {\n",
        "    'A': ['B', 'C'],\n",
        "    'B': ['D', 'E'],\n",
        "    'C': ['F'],\n",
        "    'D': [],\n",
        "    'E': ['F'],\n",
        "    'F': []\n",
        "}\n",
        "\n",
        "visited_nodes = set()\n",
        "print(\"DFS traversal:\")\n",
        "dfs(graph, 'A', visited_nodes)"
      ],
      "cell_type": "code",
      "metadata": {
        "colab": {
          "base_uri": "https://localhost:8080/"
        },
        "id": "w2PxIEL-afDw",
        "outputId": "ea10bc95-744b-4b7c-fc08-79b0c336c218"
      },
      "execution_count": 1,
      "outputs": [
        {
          "output_type": "stream",
          "name": "stdout",
          "text": [
            "DFS traversal:\n",
            "A\n",
            "B\n",
            "D\n",
            "E\n",
            "F\n",
            "C\n"
          ]
        }
      ]
    }
  ]
}